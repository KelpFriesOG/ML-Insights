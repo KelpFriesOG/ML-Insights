{
 "cells": [
  {
   "cell_type": "markdown",
   "metadata": {},
   "source": [
    "## Yes, there's math, Yes its hard. Sorry\n",
    "\n",
    "If machine learning and anything related to AI was easy then well anyone could do it and companies like OpenAI and Anthropic would be somewhat worthless.\n",
    "\n",
    "Let me start by providing a few disclaimers:\n",
    "\n",
    "1) A large portion of the notes and code in this book was generated using the assistance of AI and I will try to cite all my sources, AI or otherwise to the best of my ability!\n",
    "\n",
    "2) Artifical Intelligence was perhaps one of the worst names we could have given the field or umbrella term to describe the field (in my humble opinion). Partly due to VCs and other rich investors the term has stuck and has become a buzzword that gets thrown around way to liberally.\n",
    "\n",
    "3) ML and its derivative fields are special in that sense that they involve the rich and thorough application of mathematics in all it's forms: calculus, linear algebra, statistics, algorithmic design, etc."
   ]
  },
  {
   "cell_type": "markdown",
   "metadata": {},
   "source": [
    "## What is AI?\n",
    "\n"
   ]
  }
 ],
 "metadata": {
  "language_info": {
   "name": "python"
  }
 },
 "nbformat": 4,
 "nbformat_minor": 2
}
