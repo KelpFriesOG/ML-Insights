{
 "cells": [
  {
   "cell_type": "markdown",
   "metadata": {},
   "source": [
    "## Recap of Previous Lessons\n",
    "\n",
    "In the previous 3 lessons we covered various topics that helped establish the conceptual and mathematical foundations of machine learning in general. This included a basic introduction to linear regression, understanding of the techniques used to evaluate the success and performance of machine learning models, and a rigorous analysis of the math behind classification and the corresponding logistic regression algorithm.\n",
    "\n",
    "In this lesson we will (finally) expand these concepts into the realm of deep learning. Starting first by discussing neural networks."
   ]
  },
  {
   "cell_type": "markdown",
   "metadata": {},
   "source": [
    "## What is a Neural Network?\n",
    "\n",
    "A neural network can be described as a graph, or a collection of nodes (or *neurons*) connected to each other by edges. Data enters the neural network through one side and exits through the other side.\n",
    "\n",
    "<img src=\"./media/basic_nn.jpg\" alt=\"a basic neural network\" width=\"400\" height=\"auto\">\n",
    "\n",
    "We can connect back neural networks to our original concept of a weighted sum by characterizing each node in the input layer as carrying inputs $x_1, x_2, \\ldots, x_n$ and having each edge between the input and output node as the weights $w_1, w_2, \\ldots, w_n$. **In  this way it is evident that a basic linear regression model can be represented as a neural network. And updating the weights is akin to updating the edges in the neural network.**\n",
    "\n",
    "\n",
    "<img src=\"./media/basic_nn2.png\" alt=\"a basic neural network\" width=\"400\" height=\"auto\">\n",
    "\n",
    "**The objective of a neural network is to classify data into 2 or more categories. Logistic regression can be thought of as the original simple binary classification problem, but neural networks deal with more complicated decision boundaries.**\n",
    "\n",
    "\n",
    "\n",
    "\n"
   ]
  }
 ],
 "metadata": {
  "kernelspec": {
   "display_name": ".venv",
   "language": "python",
   "name": "python3"
  },
  "language_info": {
   "name": "python",
   "version": "3.12.4"
  }
 },
 "nbformat": 4,
 "nbformat_minor": 2
}
